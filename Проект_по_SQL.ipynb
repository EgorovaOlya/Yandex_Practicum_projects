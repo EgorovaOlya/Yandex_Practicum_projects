{
  "cells": [
    {
      "cell_type": "markdown",
      "id": "d76453db",
      "metadata": {
        "id": "d76453db"
      },
      "source": [
        "# SQL. Анализ базы данных сервиса для чтения книг по подписке"
      ]
    },
    {
      "cell_type": "markdown",
      "id": "09e2bb94",
      "metadata": {
        "id": "09e2bb94"
      },
      "source": [
        "Ваша компания решила быть на волне и купила крупный сервис для чтения книг по подписке. Ваша первая задача как аналитика — проанализировать базу данных.\n",
        "В ней — информация о книгах, издательствах, авторах, а также пользовательские обзоры книг. Эти данные помогут сформулировать ценностное предложение для нового продукта.  \n",
        "\n",
        "`Цель исследования`: получить данные, которые помогут сформулировать ценностное предложение для нового продукта."
      ]
    },
    {
      "cell_type": "markdown",
      "id": "0373dfd6",
      "metadata": {
        "id": "0373dfd6"
      },
      "source": [
        "## Описание данных\n",
        "\n",
        "**Таблица `books`**\n",
        "\n",
        "Содержит данные о книгах:\n",
        "\n",
        "- `book_id` — идентификатор книги;\n",
        "- `author_id` — идентификатор автора;\n",
        "- `title` — название книги;\n",
        "- `num_pages` — количество страниц;\n",
        "- `publication_date` — дата публикации книги;\n",
        "- `publisher_id` — идентификатор издателя.\n",
        "\n",
        "**Таблица `authors`**\n",
        "\n",
        "Содержит данные об авторах:\n",
        "\n",
        "- `author_id` — идентификатор автора;\n",
        "- `author` — имя автора.\n",
        "\n",
        "**Таблица `publishers`**\n",
        "\n",
        "Содержит данные об издательствах:\n",
        "\n",
        "- `publisher_id` — идентификатор издательства;\n",
        "- `publisher` — название издательства;  \n",
        "\n",
        "**Таблица `ratings`**\n",
        "\n",
        "Содержит данные о пользовательских оценках книг:\n",
        "\n",
        "- `rating_id` — идентификатор оценки;\n",
        "- `book_id` — идентификатор книги;\n",
        "- `username` — имя пользователя, оставившего оценку;\n",
        "- `rating` — оценка книги.\n",
        "\n",
        "**Таблица `reviews`**\n",
        "\n",
        "Содержит данные о пользовательских обзорах на книги:\n",
        "\n",
        "- `review_id` — идентификатор обзора;\n",
        "- `book_id` — идентификатор книги;\n",
        "- `username` — имя пользователя, написавшего обзор;\n",
        "- `text` — текст обзора."
      ]
    },
    {
      "cell_type": "markdown",
      "id": "a53afdb5",
      "metadata": {
        "id": "a53afdb5"
      },
      "source": []
    },
    {
      "cell_type": "markdown",
      "id": "c53c170e",
      "metadata": {
        "id": "c53c170e"
      },
      "source": [
        "![Текст с описанием картинки](https://concrete-web-bad.notion.site/image/https%3A%2F%2Fs3-us-west-2.amazonaws.com%2Fsecure.notion-static.com%2F069818d1-0e5c-4d87-a461-0de584ab9c33%2FUntitled_(33).png?id=bd53c8db-b4fd-49eb-8cc9-572ebb3c9163&table=block&spaceId=9e4bd47b-c6e6-4ca3-bcee-279794b47315&width=1640&userId=&cache=v2)"
      ]
    },
    {
      "cell_type": "markdown",
      "id": "2db85ec1",
      "metadata": {
        "id": "2db85ec1"
      },
      "source": []
    },
    {
      "cell_type": "markdown",
      "id": "6fb31cbd",
      "metadata": {
        "id": "6fb31cbd"
      },
      "source": [
        "## Исследуем таблицы"
      ]
    },
    {
      "cell_type": "code",
      "execution_count": null,
      "id": "d00ebfdf",
      "metadata": {
        "id": "d00ebfdf"
      },
      "outputs": [],
      "source": [
        "# импортируем библиотеки\n",
        "import pandas as pd\n",
        "from sqlalchemy import text, create_engine"
      ]
    },
    {
      "cell_type": "code",
      "execution_count": null,
      "id": "2a9be555",
      "metadata": {
        "id": "2a9be555"
      },
      "outputs": [],
      "source": [
        "# устанавливаем параметры\n",
        "db_config = {'user': 'praktikum_student', # имя пользователя\n",
        "'pwd': 'Sdf4$2;d-d30pp', # пароль\n",
        "'host': 'rc1b-wcoijxj3yxfsf3fs.mdb.yandexcloud.net',\n",
        "'port': 6432, # порт подключения\n",
        "'db': 'data-analyst-final-project-db'} # название базы данных\n",
        "connection_string = 'postgresql://{user}:{pwd}@{host}:{port}/{db}'.format(**db_config)\n",
        "\n",
        "# сохраняем коннектор\n",
        "engine = create_engine(connection_string, connect_args={'sslmode':'require'})"
      ]
    },
    {
      "cell_type": "markdown",
      "id": "44bd4afd",
      "metadata": {
        "id": "44bd4afd"
      },
      "source": [
        "### books"
      ]
    },
    {
      "cell_type": "code",
      "execution_count": null,
      "id": "4a6bfb94",
      "metadata": {
        "id": "4a6bfb94",
        "outputId": "562ae34a-4708-43a4-9cd1-f672d80886a0"
      },
      "outputs": [
        {
          "data": {
            "text/html": [
              "<div>\n",
              "<style scoped>\n",
              "    .dataframe tbody tr th:only-of-type {\n",
              "        vertical-align: middle;\n",
              "    }\n",
              "\n",
              "    .dataframe tbody tr th {\n",
              "        vertical-align: top;\n",
              "    }\n",
              "\n",
              "    .dataframe thead th {\n",
              "        text-align: right;\n",
              "    }\n",
              "</style>\n",
              "<table border=\"1\" class=\"dataframe\">\n",
              "  <thead>\n",
              "    <tr style=\"text-align: right;\">\n",
              "      <th></th>\n",
              "      <th>book_id</th>\n",
              "      <th>author_id</th>\n",
              "      <th>title</th>\n",
              "      <th>num_pages</th>\n",
              "      <th>publication_date</th>\n",
              "      <th>publisher_id</th>\n",
              "    </tr>\n",
              "  </thead>\n",
              "  <tbody>\n",
              "    <tr>\n",
              "      <th>0</th>\n",
              "      <td>1</td>\n",
              "      <td>546</td>\n",
              "      <td>'Salem's Lot</td>\n",
              "      <td>594</td>\n",
              "      <td>2005-11-01</td>\n",
              "      <td>93</td>\n",
              "    </tr>\n",
              "    <tr>\n",
              "      <th>1</th>\n",
              "      <td>2</td>\n",
              "      <td>465</td>\n",
              "      <td>1 000 Places to See Before You Die</td>\n",
              "      <td>992</td>\n",
              "      <td>2003-05-22</td>\n",
              "      <td>336</td>\n",
              "    </tr>\n",
              "    <tr>\n",
              "      <th>2</th>\n",
              "      <td>3</td>\n",
              "      <td>407</td>\n",
              "      <td>13 Little Blue Envelopes (Little Blue Envelope...</td>\n",
              "      <td>322</td>\n",
              "      <td>2010-12-21</td>\n",
              "      <td>135</td>\n",
              "    </tr>\n",
              "    <tr>\n",
              "      <th>3</th>\n",
              "      <td>4</td>\n",
              "      <td>82</td>\n",
              "      <td>1491: New Revelations of the Americas Before C...</td>\n",
              "      <td>541</td>\n",
              "      <td>2006-10-10</td>\n",
              "      <td>309</td>\n",
              "    </tr>\n",
              "    <tr>\n",
              "      <th>4</th>\n",
              "      <td>5</td>\n",
              "      <td>125</td>\n",
              "      <td>1776</td>\n",
              "      <td>386</td>\n",
              "      <td>2006-07-04</td>\n",
              "      <td>268</td>\n",
              "    </tr>\n",
              "  </tbody>\n",
              "</table>\n",
              "</div>"
            ],
            "text/plain": [
              "   book_id  author_id                                              title  \\\n",
              "0        1        546                                       'Salem's Lot   \n",
              "1        2        465                 1 000 Places to See Before You Die   \n",
              "2        3        407  13 Little Blue Envelopes (Little Blue Envelope...   \n",
              "3        4         82  1491: New Revelations of the Americas Before C...   \n",
              "4        5        125                                               1776   \n",
              "\n",
              "   num_pages publication_date  publisher_id  \n",
              "0        594       2005-11-01            93  \n",
              "1        992       2003-05-22           336  \n",
              "2        322       2010-12-21           135  \n",
              "3        541       2006-10-10           309  \n",
              "4        386       2006-07-04           268  "
            ]
          },
          "execution_count": 3,
          "metadata": {},
          "output_type": "execute_result"
        }
      ],
      "source": [
        "query = '''\n",
        "\n",
        "SELECT *\n",
        "FROM books LIMIT 5\n",
        "\n",
        "'''\n",
        "pd.io.sql.read_sql(sql=text(query), con = engine.connect())"
      ]
    },
    {
      "cell_type": "markdown",
      "id": "0b819071",
      "metadata": {
        "id": "0b819071"
      },
      "source": [
        "### authors"
      ]
    },
    {
      "cell_type": "code",
      "execution_count": null,
      "id": "c496f411",
      "metadata": {
        "id": "c496f411",
        "outputId": "fe5f0240-682c-47a8-9d9a-9b58c42bff60"
      },
      "outputs": [
        {
          "data": {
            "text/html": [
              "<div>\n",
              "<style scoped>\n",
              "    .dataframe tbody tr th:only-of-type {\n",
              "        vertical-align: middle;\n",
              "    }\n",
              "\n",
              "    .dataframe tbody tr th {\n",
              "        vertical-align: top;\n",
              "    }\n",
              "\n",
              "    .dataframe thead th {\n",
              "        text-align: right;\n",
              "    }\n",
              "</style>\n",
              "<table border=\"1\" class=\"dataframe\">\n",
              "  <thead>\n",
              "    <tr style=\"text-align: right;\">\n",
              "      <th></th>\n",
              "      <th>author_id</th>\n",
              "      <th>author</th>\n",
              "    </tr>\n",
              "  </thead>\n",
              "  <tbody>\n",
              "    <tr>\n",
              "      <th>0</th>\n",
              "      <td>1</td>\n",
              "      <td>A.S. Byatt</td>\n",
              "    </tr>\n",
              "    <tr>\n",
              "      <th>1</th>\n",
              "      <td>2</td>\n",
              "      <td>Aesop/Laura Harris/Laura Gibbs</td>\n",
              "    </tr>\n",
              "    <tr>\n",
              "      <th>2</th>\n",
              "      <td>3</td>\n",
              "      <td>Agatha Christie</td>\n",
              "    </tr>\n",
              "    <tr>\n",
              "      <th>3</th>\n",
              "      <td>4</td>\n",
              "      <td>Alan Brennert</td>\n",
              "    </tr>\n",
              "    <tr>\n",
              "      <th>4</th>\n",
              "      <td>5</td>\n",
              "      <td>Alan Moore/David   Lloyd</td>\n",
              "    </tr>\n",
              "  </tbody>\n",
              "</table>\n",
              "</div>"
            ],
            "text/plain": [
              "   author_id                          author\n",
              "0          1                      A.S. Byatt\n",
              "1          2  Aesop/Laura Harris/Laura Gibbs\n",
              "2          3                 Agatha Christie\n",
              "3          4                   Alan Brennert\n",
              "4          5        Alan Moore/David   Lloyd"
            ]
          },
          "execution_count": 4,
          "metadata": {},
          "output_type": "execute_result"
        }
      ],
      "source": [
        "query = '''\n",
        "\n",
        "SELECT *\n",
        "FROM authors LIMIT 5\n",
        "\n",
        "'''\n",
        "pd.io.sql.read_sql(sql=text(query), con = engine.connect())"
      ]
    },
    {
      "cell_type": "markdown",
      "id": "29314760",
      "metadata": {
        "id": "29314760"
      },
      "source": [
        "### publishers"
      ]
    },
    {
      "cell_type": "code",
      "execution_count": null,
      "id": "b3411ead",
      "metadata": {
        "id": "b3411ead",
        "outputId": "c4200726-a89b-4221-8da3-c609ed11ecd8"
      },
      "outputs": [
        {
          "data": {
            "text/html": [
              "<div>\n",
              "<style scoped>\n",
              "    .dataframe tbody tr th:only-of-type {\n",
              "        vertical-align: middle;\n",
              "    }\n",
              "\n",
              "    .dataframe tbody tr th {\n",
              "        vertical-align: top;\n",
              "    }\n",
              "\n",
              "    .dataframe thead th {\n",
              "        text-align: right;\n",
              "    }\n",
              "</style>\n",
              "<table border=\"1\" class=\"dataframe\">\n",
              "  <thead>\n",
              "    <tr style=\"text-align: right;\">\n",
              "      <th></th>\n",
              "      <th>publisher_id</th>\n",
              "      <th>publisher</th>\n",
              "    </tr>\n",
              "  </thead>\n",
              "  <tbody>\n",
              "    <tr>\n",
              "      <th>0</th>\n",
              "      <td>1</td>\n",
              "      <td>Ace</td>\n",
              "    </tr>\n",
              "    <tr>\n",
              "      <th>1</th>\n",
              "      <td>2</td>\n",
              "      <td>Ace Book</td>\n",
              "    </tr>\n",
              "    <tr>\n",
              "      <th>2</th>\n",
              "      <td>3</td>\n",
              "      <td>Ace Books</td>\n",
              "    </tr>\n",
              "    <tr>\n",
              "      <th>3</th>\n",
              "      <td>4</td>\n",
              "      <td>Ace Hardcover</td>\n",
              "    </tr>\n",
              "    <tr>\n",
              "      <th>4</th>\n",
              "      <td>5</td>\n",
              "      <td>Addison Wesley Publishing Company</td>\n",
              "    </tr>\n",
              "  </tbody>\n",
              "</table>\n",
              "</div>"
            ],
            "text/plain": [
              "   publisher_id                          publisher\n",
              "0             1                                Ace\n",
              "1             2                           Ace Book\n",
              "2             3                          Ace Books\n",
              "3             4                      Ace Hardcover\n",
              "4             5  Addison Wesley Publishing Company"
            ]
          },
          "execution_count": 5,
          "metadata": {},
          "output_type": "execute_result"
        }
      ],
      "source": [
        "query = '''\n",
        "\n",
        "SELECT *\n",
        "FROM publishers LIMIT 5\n",
        "\n",
        "'''\n",
        "pd.io.sql.read_sql(sql=text(query), con = engine.connect())"
      ]
    },
    {
      "cell_type": "markdown",
      "id": "1ec7d7ef",
      "metadata": {
        "id": "1ec7d7ef"
      },
      "source": [
        "### ratings"
      ]
    },
    {
      "cell_type": "code",
      "execution_count": null,
      "id": "11aad200",
      "metadata": {
        "id": "11aad200",
        "outputId": "d563a57b-391d-448a-a1c1-e6b033454cd4"
      },
      "outputs": [
        {
          "data": {
            "text/html": [
              "<div>\n",
              "<style scoped>\n",
              "    .dataframe tbody tr th:only-of-type {\n",
              "        vertical-align: middle;\n",
              "    }\n",
              "\n",
              "    .dataframe tbody tr th {\n",
              "        vertical-align: top;\n",
              "    }\n",
              "\n",
              "    .dataframe thead th {\n",
              "        text-align: right;\n",
              "    }\n",
              "</style>\n",
              "<table border=\"1\" class=\"dataframe\">\n",
              "  <thead>\n",
              "    <tr style=\"text-align: right;\">\n",
              "      <th></th>\n",
              "      <th>rating_id</th>\n",
              "      <th>book_id</th>\n",
              "      <th>username</th>\n",
              "      <th>rating</th>\n",
              "    </tr>\n",
              "  </thead>\n",
              "  <tbody>\n",
              "    <tr>\n",
              "      <th>0</th>\n",
              "      <td>1</td>\n",
              "      <td>1</td>\n",
              "      <td>ryanfranco</td>\n",
              "      <td>4</td>\n",
              "    </tr>\n",
              "    <tr>\n",
              "      <th>1</th>\n",
              "      <td>2</td>\n",
              "      <td>1</td>\n",
              "      <td>grantpatricia</td>\n",
              "      <td>2</td>\n",
              "    </tr>\n",
              "    <tr>\n",
              "      <th>2</th>\n",
              "      <td>3</td>\n",
              "      <td>1</td>\n",
              "      <td>brandtandrea</td>\n",
              "      <td>5</td>\n",
              "    </tr>\n",
              "    <tr>\n",
              "      <th>3</th>\n",
              "      <td>4</td>\n",
              "      <td>2</td>\n",
              "      <td>lorichen</td>\n",
              "      <td>3</td>\n",
              "    </tr>\n",
              "    <tr>\n",
              "      <th>4</th>\n",
              "      <td>5</td>\n",
              "      <td>2</td>\n",
              "      <td>mariokeller</td>\n",
              "      <td>2</td>\n",
              "    </tr>\n",
              "  </tbody>\n",
              "</table>\n",
              "</div>"
            ],
            "text/plain": [
              "   rating_id  book_id       username  rating\n",
              "0          1        1     ryanfranco       4\n",
              "1          2        1  grantpatricia       2\n",
              "2          3        1   brandtandrea       5\n",
              "3          4        2       lorichen       3\n",
              "4          5        2    mariokeller       2"
            ]
          },
          "execution_count": 6,
          "metadata": {},
          "output_type": "execute_result"
        }
      ],
      "source": [
        "query = '''\n",
        "\n",
        "SELECT *\n",
        "FROM ratings LIMIT 5\n",
        "\n",
        "'''\n",
        "pd.io.sql.read_sql(sql=text(query), con = engine.connect())"
      ]
    },
    {
      "cell_type": "markdown",
      "id": "fe5e6a02",
      "metadata": {
        "id": "fe5e6a02"
      },
      "source": [
        "### reviews"
      ]
    },
    {
      "cell_type": "code",
      "execution_count": null,
      "id": "a222cb05",
      "metadata": {
        "id": "a222cb05",
        "outputId": "f075a3ec-4c30-46d2-d7cd-c1fd77041620"
      },
      "outputs": [
        {
          "data": {
            "text/html": [
              "<div>\n",
              "<style scoped>\n",
              "    .dataframe tbody tr th:only-of-type {\n",
              "        vertical-align: middle;\n",
              "    }\n",
              "\n",
              "    .dataframe tbody tr th {\n",
              "        vertical-align: top;\n",
              "    }\n",
              "\n",
              "    .dataframe thead th {\n",
              "        text-align: right;\n",
              "    }\n",
              "</style>\n",
              "<table border=\"1\" class=\"dataframe\">\n",
              "  <thead>\n",
              "    <tr style=\"text-align: right;\">\n",
              "      <th></th>\n",
              "      <th>review_id</th>\n",
              "      <th>book_id</th>\n",
              "      <th>username</th>\n",
              "      <th>text</th>\n",
              "    </tr>\n",
              "  </thead>\n",
              "  <tbody>\n",
              "    <tr>\n",
              "      <th>0</th>\n",
              "      <td>1</td>\n",
              "      <td>1</td>\n",
              "      <td>brandtandrea</td>\n",
              "      <td>Mention society tell send professor analysis. ...</td>\n",
              "    </tr>\n",
              "    <tr>\n",
              "      <th>1</th>\n",
              "      <td>2</td>\n",
              "      <td>1</td>\n",
              "      <td>ryanfranco</td>\n",
              "      <td>Foot glass pretty audience hit themselves. Amo...</td>\n",
              "    </tr>\n",
              "    <tr>\n",
              "      <th>2</th>\n",
              "      <td>3</td>\n",
              "      <td>2</td>\n",
              "      <td>lorichen</td>\n",
              "      <td>Listen treat keep worry. Miss husband tax but ...</td>\n",
              "    </tr>\n",
              "    <tr>\n",
              "      <th>3</th>\n",
              "      <td>4</td>\n",
              "      <td>3</td>\n",
              "      <td>johnsonamanda</td>\n",
              "      <td>Finally month interesting blue could nature cu...</td>\n",
              "    </tr>\n",
              "    <tr>\n",
              "      <th>4</th>\n",
              "      <td>5</td>\n",
              "      <td>3</td>\n",
              "      <td>scotttamara</td>\n",
              "      <td>Nation purpose heavy give wait song will. List...</td>\n",
              "    </tr>\n",
              "  </tbody>\n",
              "</table>\n",
              "</div>"
            ],
            "text/plain": [
              "   review_id  book_id       username  \\\n",
              "0          1        1   brandtandrea   \n",
              "1          2        1     ryanfranco   \n",
              "2          3        2       lorichen   \n",
              "3          4        3  johnsonamanda   \n",
              "4          5        3    scotttamara   \n",
              "\n",
              "                                                text  \n",
              "0  Mention society tell send professor analysis. ...  \n",
              "1  Foot glass pretty audience hit themselves. Amo...  \n",
              "2  Listen treat keep worry. Miss husband tax but ...  \n",
              "3  Finally month interesting blue could nature cu...  \n",
              "4  Nation purpose heavy give wait song will. List...  "
            ]
          },
          "execution_count": 7,
          "metadata": {},
          "output_type": "execute_result"
        }
      ],
      "source": [
        "query = '''\n",
        "\n",
        "SELECT *\n",
        "FROM reviews LIMIT 5\n",
        "\n",
        "'''\n",
        "pd.io.sql.read_sql(sql=text(query), con = engine.connect())"
      ]
    },
    {
      "cell_type": "markdown",
      "id": "2cb9746e",
      "metadata": {
        "id": "2cb9746e"
      },
      "source": []
    },
    {
      "cell_type": "markdown",
      "id": "d56c3d53",
      "metadata": {
        "id": "d56c3d53"
      },
      "source": [
        "## Задания"
      ]
    },
    {
      "cell_type": "markdown",
      "id": "eb9b64c4",
      "metadata": {
        "id": "eb9b64c4"
      },
      "source": [
        "### Посчитайте, сколько книг вышло после 1 января 2000 года;\n"
      ]
    },
    {
      "cell_type": "code",
      "execution_count": null,
      "id": "5f610e5a",
      "metadata": {
        "scrolled": true,
        "id": "5f610e5a",
        "outputId": "3ba45d4b-8b71-4213-dcac-5750ef95508e"
      },
      "outputs": [
        {
          "data": {
            "text/html": [
              "<div>\n",
              "<style scoped>\n",
              "    .dataframe tbody tr th:only-of-type {\n",
              "        vertical-align: middle;\n",
              "    }\n",
              "\n",
              "    .dataframe tbody tr th {\n",
              "        vertical-align: top;\n",
              "    }\n",
              "\n",
              "    .dataframe thead th {\n",
              "        text-align: right;\n",
              "    }\n",
              "</style>\n",
              "<table border=\"1\" class=\"dataframe\">\n",
              "  <thead>\n",
              "    <tr style=\"text-align: right;\">\n",
              "      <th></th>\n",
              "      <th>count</th>\n",
              "    </tr>\n",
              "  </thead>\n",
              "  <tbody>\n",
              "    <tr>\n",
              "      <th>0</th>\n",
              "      <td>819</td>\n",
              "    </tr>\n",
              "  </tbody>\n",
              "</table>\n",
              "</div>"
            ],
            "text/plain": [
              "   count\n",
              "0    819"
            ]
          },
          "execution_count": 8,
          "metadata": {},
          "output_type": "execute_result"
        }
      ],
      "source": [
        "query = '''\n",
        "\n",
        "SELECT COUNT(book_id)\n",
        "FROM books\n",
        "WHERE publication_date > '2000-01-01'\n",
        "\n",
        "'''\n",
        "\n",
        "pd.io.sql.read_sql(sql=text(query), con = engine.connect())"
      ]
    },
    {
      "cell_type": "markdown",
      "id": "bf619717",
      "metadata": {
        "id": "bf619717"
      },
      "source": [
        "После `1 января 2000` года вышло `819` книг."
      ]
    },
    {
      "cell_type": "markdown",
      "id": "d7c634e3",
      "metadata": {
        "id": "d7c634e3"
      },
      "source": [
        "<div class=\"alert alert-block alert-success\">✔️\n",
        "    \n",
        "\n",
        "__Комментарий от тимлида №1__\n",
        "\n",
        "Расчёт верный\n",
        "</div>"
      ]
    },
    {
      "cell_type": "markdown",
      "id": "d513e621",
      "metadata": {
        "id": "d513e621"
      },
      "source": []
    },
    {
      "cell_type": "markdown",
      "id": "641ff6c7",
      "metadata": {
        "id": "641ff6c7"
      },
      "source": [
        "### Для каждой книги посчитайте количество обзоров и среднюю оценку;\n"
      ]
    },
    {
      "cell_type": "code",
      "execution_count": null,
      "id": "9046a958",
      "metadata": {
        "id": "9046a958",
        "outputId": "12e961f0-6014-487b-c971-ba56bd284542"
      },
      "outputs": [
        {
          "data": {
            "text/html": [
              "<div>\n",
              "<style scoped>\n",
              "    .dataframe tbody tr th:only-of-type {\n",
              "        vertical-align: middle;\n",
              "    }\n",
              "\n",
              "    .dataframe tbody tr th {\n",
              "        vertical-align: top;\n",
              "    }\n",
              "\n",
              "    .dataframe thead th {\n",
              "        text-align: right;\n",
              "    }\n",
              "</style>\n",
              "<table border=\"1\" class=\"dataframe\">\n",
              "  <thead>\n",
              "    <tr style=\"text-align: right;\">\n",
              "      <th></th>\n",
              "      <th>book_id</th>\n",
              "      <th>title</th>\n",
              "      <th>reviews_cnt</th>\n",
              "      <th>avg_rating</th>\n",
              "    </tr>\n",
              "  </thead>\n",
              "  <tbody>\n",
              "    <tr>\n",
              "      <th>0</th>\n",
              "      <td>86</td>\n",
              "      <td>Arrows of the Queen (Heralds of Valdemar  #1)</td>\n",
              "      <td>2</td>\n",
              "      <td>5.00</td>\n",
              "    </tr>\n",
              "    <tr>\n",
              "      <th>1</th>\n",
              "      <td>901</td>\n",
              "      <td>The Walking Dead  Book One (The Walking Dead #...</td>\n",
              "      <td>2</td>\n",
              "      <td>5.00</td>\n",
              "    </tr>\n",
              "    <tr>\n",
              "      <th>2</th>\n",
              "      <td>390</td>\n",
              "      <td>Light in August</td>\n",
              "      <td>2</td>\n",
              "      <td>5.00</td>\n",
              "    </tr>\n",
              "    <tr>\n",
              "      <th>3</th>\n",
              "      <td>972</td>\n",
              "      <td>Wherever You Go  There You Are: Mindfulness Me...</td>\n",
              "      <td>2</td>\n",
              "      <td>5.00</td>\n",
              "    </tr>\n",
              "    <tr>\n",
              "      <th>4</th>\n",
              "      <td>136</td>\n",
              "      <td>Captivating: Unveiling the Mystery of a Woman'...</td>\n",
              "      <td>2</td>\n",
              "      <td>5.00</td>\n",
              "    </tr>\n",
              "    <tr>\n",
              "      <th>...</th>\n",
              "      <td>...</td>\n",
              "      <td>...</td>\n",
              "      <td>...</td>\n",
              "      <td>...</td>\n",
              "    </tr>\n",
              "    <tr>\n",
              "      <th>995</th>\n",
              "      <td>915</td>\n",
              "      <td>The World Is Flat: A Brief History of the Twen...</td>\n",
              "      <td>3</td>\n",
              "      <td>2.25</td>\n",
              "    </tr>\n",
              "    <tr>\n",
              "      <th>996</th>\n",
              "      <td>316</td>\n",
              "      <td>His Excellency: George Washington</td>\n",
              "      <td>2</td>\n",
              "      <td>2.00</td>\n",
              "    </tr>\n",
              "    <tr>\n",
              "      <th>997</th>\n",
              "      <td>202</td>\n",
              "      <td>Drowning Ruth</td>\n",
              "      <td>3</td>\n",
              "      <td>2.00</td>\n",
              "    </tr>\n",
              "    <tr>\n",
              "      <th>998</th>\n",
              "      <td>371</td>\n",
              "      <td>Junky</td>\n",
              "      <td>2</td>\n",
              "      <td>2.00</td>\n",
              "    </tr>\n",
              "    <tr>\n",
              "      <th>999</th>\n",
              "      <td>303</td>\n",
              "      <td>Harvesting the Heart</td>\n",
              "      <td>2</td>\n",
              "      <td>1.50</td>\n",
              "    </tr>\n",
              "  </tbody>\n",
              "</table>\n",
              "<p>1000 rows × 4 columns</p>\n",
              "</div>"
            ],
            "text/plain": [
              "     book_id                                              title  reviews_cnt  \\\n",
              "0         86      Arrows of the Queen (Heralds of Valdemar  #1)            2   \n",
              "1        901  The Walking Dead  Book One (The Walking Dead #...            2   \n",
              "2        390                                    Light in August            2   \n",
              "3        972  Wherever You Go  There You Are: Mindfulness Me...            2   \n",
              "4        136  Captivating: Unveiling the Mystery of a Woman'...            2   \n",
              "..       ...                                                ...          ...   \n",
              "995      915  The World Is Flat: A Brief History of the Twen...            3   \n",
              "996      316                  His Excellency: George Washington            2   \n",
              "997      202                                      Drowning Ruth            3   \n",
              "998      371                                              Junky            2   \n",
              "999      303                               Harvesting the Heart            2   \n",
              "\n",
              "     avg_rating  \n",
              "0          5.00  \n",
              "1          5.00  \n",
              "2          5.00  \n",
              "3          5.00  \n",
              "4          5.00  \n",
              "..          ...  \n",
              "995        2.25  \n",
              "996        2.00  \n",
              "997        2.00  \n",
              "998        2.00  \n",
              "999        1.50  \n",
              "\n",
              "[1000 rows x 4 columns]"
            ]
          },
          "execution_count": 9,
          "metadata": {},
          "output_type": "execute_result"
        }
      ],
      "source": [
        "query = '''\n",
        "\n",
        "SELECT b.book_id,\n",
        "       b.title,\n",
        "       COUNT(DISTINCT rv.review_id) AS reviews_cnt,\n",
        "       ROUND(AVG(r.rating),3) AS avg_rating\n",
        "FROM books AS b\n",
        "LEFT JOIN reviews AS rv ON b.book_id = rv.book_id\n",
        "LEFT JOIN ratings AS r ON b.book_id = r.book_id\n",
        "GROUP BY b.book_id, b.title\n",
        "ORDER BY avg_rating DESC\n",
        "\n",
        "'''\n",
        "pd.io.sql.read_sql(sql=text(query), con = engine.connect())"
      ]
    },
    {
      "cell_type": "markdown",
      "id": "b21c52b4",
      "metadata": {
        "id": "b21c52b4"
      },
      "source": [
        "Значение среднего рейтинга книг варьируется от `1.5` до `5`"
      ]
    },
    {
      "cell_type": "markdown",
      "id": "ed1399a7",
      "metadata": {
        "id": "ed1399a7"
      },
      "source": []
    },
    {
      "cell_type": "markdown",
      "id": "eb1f3c55",
      "metadata": {
        "id": "eb1f3c55"
      },
      "source": [
        "### Определите издательство, которое выпустило наибольшее число книг толще 50 страниц — так вы исключите из анализа брошюры;\n"
      ]
    },
    {
      "cell_type": "code",
      "execution_count": null,
      "id": "20860d2d",
      "metadata": {
        "id": "20860d2d",
        "outputId": "1f9d95f6-db54-4556-8748-44549d9023fc"
      },
      "outputs": [
        {
          "data": {
            "text/html": [
              "<div>\n",
              "<style scoped>\n",
              "    .dataframe tbody tr th:only-of-type {\n",
              "        vertical-align: middle;\n",
              "    }\n",
              "\n",
              "    .dataframe tbody tr th {\n",
              "        vertical-align: top;\n",
              "    }\n",
              "\n",
              "    .dataframe thead th {\n",
              "        text-align: right;\n",
              "    }\n",
              "</style>\n",
              "<table border=\"1\" class=\"dataframe\">\n",
              "  <thead>\n",
              "    <tr style=\"text-align: right;\">\n",
              "      <th></th>\n",
              "      <th>publisher_id</th>\n",
              "      <th>publisher</th>\n",
              "    </tr>\n",
              "  </thead>\n",
              "  <tbody>\n",
              "    <tr>\n",
              "      <th>0</th>\n",
              "      <td>212</td>\n",
              "      <td>Penguin Books</td>\n",
              "    </tr>\n",
              "  </tbody>\n",
              "</table>\n",
              "</div>"
            ],
            "text/plain": [
              "   publisher_id      publisher\n",
              "0           212  Penguin Books"
            ]
          },
          "execution_count": 10,
          "metadata": {},
          "output_type": "execute_result"
        }
      ],
      "source": [
        "query = '''\n",
        "\n",
        "WITH tab AS\n",
        "(SELECT publisher_id,\n",
        "        book_id\n",
        "FROM books\n",
        "WHERE num_pages > 50)\n",
        "\n",
        "SELECT tab.publisher_id,\n",
        "       p.publisher\n",
        "FROM tab\n",
        "INNER JOIN publishers AS p ON tab.publisher_id = p.publisher_id\n",
        "GROUP BY tab.publisher_id, p.publisher\n",
        "ORDER BY COUNT(tab.book_id) DESC\n",
        "LIMIT 1\n",
        "\n",
        "'''\n",
        "pd.io.sql.read_sql(sql=text(query), con = engine.connect())"
      ]
    },
    {
      "cell_type": "markdown",
      "id": "1175d755",
      "metadata": {
        "id": "1175d755"
      },
      "source": [
        "Издательство, выпустившее наибольшее число книг толще 50 страниц - `Penguin Books`"
      ]
    },
    {
      "cell_type": "markdown",
      "id": "02238938",
      "metadata": {
        "id": "02238938"
      },
      "source": []
    },
    {
      "cell_type": "markdown",
      "id": "c93c8d55",
      "metadata": {
        "id": "c93c8d55"
      },
      "source": [
        "### Определите автора с самой высокой средней оценкой книг — учитывайте только книги с 50 и более оценками;\n"
      ]
    },
    {
      "cell_type": "code",
      "execution_count": null,
      "id": "6b43d886",
      "metadata": {
        "id": "6b43d886",
        "outputId": "da0983ba-ab5d-4988-8064-87aaa2276c2b"
      },
      "outputs": [
        {
          "data": {
            "text/html": [
              "<div>\n",
              "<style scoped>\n",
              "    .dataframe tbody tr th:only-of-type {\n",
              "        vertical-align: middle;\n",
              "    }\n",
              "\n",
              "    .dataframe tbody tr th {\n",
              "        vertical-align: top;\n",
              "    }\n",
              "\n",
              "    .dataframe thead th {\n",
              "        text-align: right;\n",
              "    }\n",
              "</style>\n",
              "<table border=\"1\" class=\"dataframe\">\n",
              "  <thead>\n",
              "    <tr style=\"text-align: right;\">\n",
              "      <th></th>\n",
              "      <th>author_id</th>\n",
              "      <th>author</th>\n",
              "      <th>avg_rating</th>\n",
              "    </tr>\n",
              "  </thead>\n",
              "  <tbody>\n",
              "    <tr>\n",
              "      <th>0</th>\n",
              "      <td>236</td>\n",
              "      <td>J.K. Rowling/Mary GrandPré</td>\n",
              "      <td>4.287097</td>\n",
              "    </tr>\n",
              "  </tbody>\n",
              "</table>\n",
              "</div>"
            ],
            "text/plain": [
              "   author_id                      author  avg_rating\n",
              "0        236  J.K. Rowling/Mary GrandPré    4.287097"
            ]
          },
          "execution_count": 11,
          "metadata": {},
          "output_type": "execute_result"
        }
      ],
      "source": [
        "query = '''\n",
        "\n",
        "WITH tab AS\n",
        "(SELECT book_id\n",
        "FROM ratings\n",
        "GROUP BY book_id\n",
        "HAVING COUNT(rating_id) >= 50)\n",
        "\n",
        "SELECT a.author_id,\n",
        "       a.author,\n",
        "       AVG(r.rating) AS avg_rating\n",
        "FROM books AS b\n",
        "INNER JOIN tab ON b.book_id = tab.book_id\n",
        "INNER JOIN authors AS a ON b.author_id = a.author_id\n",
        "INNER JOIN ratings AS r ON tab.book_id = r.book_id\n",
        "GROUP BY a.author_id, a.author\n",
        "ORDER BY AVG(r.rating) DESC\n",
        "LIMIT 1\n",
        "\n",
        "'''\n",
        "pd.io.sql.read_sql(sql=text(query), con = engine.connect())"
      ]
    },
    {
      "cell_type": "markdown",
      "id": "dd0194e0",
      "metadata": {
        "id": "dd0194e0"
      },
      "source": [
        "Автор с самой высокой средней оценкой книг (среди книг с 50 и более оценками) - `J.K. Rowling/Mary GrandPré`\t(коллаборация автора и иллюстратора)"
      ]
    },
    {
      "cell_type": "markdown",
      "id": "f62d4a7a",
      "metadata": {
        "id": "f62d4a7a"
      },
      "source": []
    },
    {
      "cell_type": "markdown",
      "id": "1ebb9dc7",
      "metadata": {
        "id": "1ebb9dc7"
      },
      "source": [
        "### Посчитайте среднее количество обзоров от пользователей, которые поставили больше 48 оценок."
      ]
    },
    {
      "cell_type": "code",
      "execution_count": null,
      "id": "2942a1fb",
      "metadata": {
        "id": "2942a1fb",
        "outputId": "fc6554e5-5e5d-4d1e-bc8f-82a06160fb94"
      },
      "outputs": [
        {
          "data": {
            "text/html": [
              "<div>\n",
              "<style scoped>\n",
              "    .dataframe tbody tr th:only-of-type {\n",
              "        vertical-align: middle;\n",
              "    }\n",
              "\n",
              "    .dataframe tbody tr th {\n",
              "        vertical-align: top;\n",
              "    }\n",
              "\n",
              "    .dataframe thead th {\n",
              "        text-align: right;\n",
              "    }\n",
              "</style>\n",
              "<table border=\"1\" class=\"dataframe\">\n",
              "  <thead>\n",
              "    <tr style=\"text-align: right;\">\n",
              "      <th></th>\n",
              "      <th>avg_rv_count</th>\n",
              "    </tr>\n",
              "  </thead>\n",
              "  <tbody>\n",
              "    <tr>\n",
              "      <th>0</th>\n",
              "      <td>24</td>\n",
              "    </tr>\n",
              "  </tbody>\n",
              "</table>\n",
              "</div>"
            ],
            "text/plain": [
              "   avg_rv_count\n",
              "0            24"
            ]
          },
          "execution_count": 12,
          "metadata": {},
          "output_type": "execute_result"
        }
      ],
      "source": [
        "query = '''\n",
        "\n",
        "SELECT COUNT(DISTINCT rv.text)/COUNT(DISTINCT rv.username) AS avg_rv_count\n",
        "FROM ratings AS r\n",
        "INNER JOIN reviews AS rv ON r.username = rv.username\n",
        "WHERE r.username in (SELECT username\n",
        "                     FROM ratings\n",
        "                     GROUP BY username\n",
        "                     HAVING COUNT(rating_id) > 48)\n",
        "\n",
        "'''\n",
        "pd.io.sql.read_sql(sql=text(query), con = engine.connect())"
      ]
    },
    {
      "cell_type": "markdown",
      "id": "4eea23c2",
      "metadata": {
        "id": "4eea23c2"
      },
      "source": [
        "Cреднее количество обзоров от пользователей, которые поставили больше 48 оценок - `24 обзора`"
      ]
    },
    {
      "cell_type": "markdown",
      "id": "6558cd76",
      "metadata": {
        "id": "6558cd76"
      },
      "source": []
    },
    {
      "cell_type": "code",
      "execution_count": null,
      "id": "bff2f130",
      "metadata": {
        "id": "bff2f130"
      },
      "outputs": [],
      "source": []
    }
  ],
  "metadata": {
    "ExecuteTimeLog": [
      {
        "duration": 612,
        "start_time": "2023-06-28T16:44:51.402Z"
      },
      {
        "duration": 37425,
        "start_time": "2023-06-28T16:44:52.017Z"
      },
      {
        "duration": 269,
        "start_time": "2023-06-28T16:45:29.443Z"
      },
      {
        "duration": 58,
        "start_time": "2023-06-28T16:45:29.714Z"
      },
      {
        "duration": 63,
        "start_time": "2023-06-28T16:45:29.775Z"
      },
      {
        "duration": 59,
        "start_time": "2023-06-28T16:45:29.840Z"
      },
      {
        "duration": 60,
        "start_time": "2023-06-28T16:45:29.902Z"
      },
      {
        "duration": 60,
        "start_time": "2023-06-28T16:45:29.964Z"
      },
      {
        "duration": 137,
        "start_time": "2023-06-28T16:45:30.027Z"
      },
      {
        "duration": 108,
        "start_time": "2023-06-28T16:45:30.167Z"
      },
      {
        "duration": 60,
        "start_time": "2023-06-28T16:45:30.277Z"
      },
      {
        "duration": 109,
        "start_time": "2023-06-28T16:45:30.340Z"
      }
    ],
    "kernelspec": {
      "display_name": "Python 3 (ipykernel)",
      "language": "python",
      "name": "python3"
    },
    "language_info": {
      "codemirror_mode": {
        "name": "ipython",
        "version": 3
      },
      "file_extension": ".py",
      "mimetype": "text/x-python",
      "name": "python",
      "nbconvert_exporter": "python",
      "pygments_lexer": "ipython3",
      "version": "3.9.5"
    },
    "toc": {
      "base_numbering": 1,
      "nav_menu": {},
      "number_sections": true,
      "sideBar": true,
      "skip_h1_title": true,
      "title_cell": "Table of Contents",
      "title_sidebar": "Contents",
      "toc_cell": false,
      "toc_position": {
        "height": "609px",
        "left": "29px",
        "top": "288px",
        "width": "320px"
      },
      "toc_section_display": true,
      "toc_window_display": true
    },
    "colab": {
      "provenance": []
    }
  },
  "nbformat": 4,
  "nbformat_minor": 5
}